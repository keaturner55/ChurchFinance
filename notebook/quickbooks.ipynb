{
 "cells": [
  {
   "cell_type": "code",
   "execution_count": 1,
   "id": "f609ecc8",
   "metadata": {},
   "outputs": [],
   "source": [
    "from intuitlib.client import AuthClient\n",
    "\n",
    "auth_client = AuthClient(\n",
    "        client_id='ABVlDV6VbSq3SyfN6ShES7gauQ8LExHxnhuoDVsKaEOe3GmBrT',\n",
    "        client_secret='zqQX950hO9CICCreDvfAvk3mE7tuJJKrGyyrRxEU',\n",
    "        access_token=None,  # If you do not pass this in, the Quickbooks client will call refresh and get a new access token. \n",
    "        environment='production',\n",
    "        redirect_uri='https://developer.intuit.com/v2/OAuth2Playground/RedirectUrl',\n",
    "    )"
   ]
  },
  {
   "cell_type": "code",
   "execution_count": 2,
   "id": "371e32a9",
   "metadata": {},
   "outputs": [
    {
     "data": {
      "text/plain": [
       "<intuitlib.client.AuthClient at 0x264e837b9d0>"
      ]
     },
     "execution_count": 2,
     "metadata": {},
     "output_type": "execute_result"
    }
   ],
   "source": [
    "auth_client"
   ]
  },
  {
   "cell_type": "code",
   "execution_count": 3,
   "id": "a2348739",
   "metadata": {},
   "outputs": [],
   "source": [
    "from quickbooks import QuickBooks\n",
    "\n",
    "client = QuickBooks(\n",
    "        auth_client=auth_client,\n",
    "        refresh_token='AB11689288216Bnpsdbbh5oJKWBLVwTTHCN5OAhL7FmkVkzkUJ',\n",
    "        company_id='514655250',\n",
    "    )"
   ]
  },
  {
   "cell_type": "code",
   "execution_count": 4,
   "id": "6428cc96",
   "metadata": {},
   "outputs": [],
   "source": [
    "from quickbooks.objects.customer import Customer\n",
    "customers = Customer.all(qb=client)"
   ]
  },
  {
   "cell_type": "code",
   "execution_count": 6,
   "id": "d6e59143",
   "metadata": {},
   "outputs": [
    {
     "data": {
      "text/plain": [
       "{'Id': '222',\n",
       " 'SyncToken': '0',\n",
       " 'sparse': False,\n",
       " 'domain': 'QBO',\n",
       " 'Title': '',\n",
       " 'GivenName': 'Adam',\n",
       " 'MiddleName': '',\n",
       " 'FamilyName': 'Fox',\n",
       " 'Suffix': '',\n",
       " 'FullyQualifiedName': 'Adam Fox',\n",
       " 'CompanyName': '',\n",
       " 'DisplayName': 'Adam Fox',\n",
       " 'PrintOnCheckName': 'Adam Fox',\n",
       " 'Notes': '',\n",
       " 'Active': True,\n",
       " 'IsProject': False,\n",
       " 'Job': False,\n",
       " 'BillWithParent': False,\n",
       " 'Taxable': False,\n",
       " 'Balance': 0,\n",
       " 'BalanceWithJobs': 0,\n",
       " 'PreferredDeliveryMethod': 'Print',\n",
       " 'ResaleNum': '',\n",
       " 'Level': 0,\n",
       " 'OpenBalanceDate': '',\n",
       " 'PrimaryTaxIdentifier': '',\n",
       " 'BillAddr': <quickbooks.objects.base.Address at 0x264e9cd4670>,\n",
       " 'ShipAddr': <quickbooks.objects.base.Address at 0x264e9cd4f40>,\n",
       " 'PrimaryPhone': None,\n",
       " 'AlternatePhone': None,\n",
       " 'Mobile': None,\n",
       " 'Fax': None,\n",
       " 'PrimaryEmailAddr': None,\n",
       " 'WebAddr': None,\n",
       " 'DefaultTaxCodeRef': None,\n",
       " 'SalesTermRef': None,\n",
       " 'PaymentMethodRef': None,\n",
       " 'ParentRef': None,\n",
       " 'ARAccountRef': None,\n",
       " 'CurrencyRef': <quickbooks.objects.base.Ref at 0x264e9d2cc70>,\n",
       " 'MetaData': {'CreateTime': '2017-01-16T09:07:05-08:00',\n",
       "  'LastUpdatedTime': '2017-01-16T09:07:05-08:00'}}"
      ]
     },
     "execution_count": 6,
     "metadata": {},
     "output_type": "execute_result"
    }
   ],
   "source": [
    "customers[0].__dict__"
   ]
  },
  {
   "cell_type": "code",
   "execution_count": null,
   "id": "5f8fc265",
   "metadata": {},
   "outputs": [],
   "source": []
  }
 ],
 "metadata": {
  "kernelspec": {
   "display_name": "ChurchEnv",
   "language": "python",
   "name": "churchenv"
  },
  "language_info": {
   "codemirror_mode": {
    "name": "ipython",
    "version": 3
   },
   "file_extension": ".py",
   "mimetype": "text/x-python",
   "name": "python",
   "nbconvert_exporter": "python",
   "pygments_lexer": "ipython3",
   "version": "3.9.13"
  }
 },
 "nbformat": 4,
 "nbformat_minor": 5
}
