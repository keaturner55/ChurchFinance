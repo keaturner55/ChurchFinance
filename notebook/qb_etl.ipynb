{
 "cells": [
  {
   "cell_type": "code",
   "execution_count": 1,
   "id": "046397c6",
   "metadata": {},
   "outputs": [],
   "source": [
    "from intuitlib.client import AuthClient\n",
    "from quickbooks import QuickBooks\n",
    "from quickbooks.objects.account import Account\n",
    "import pandas as pd\n",
    "from matplotlib import pyplot as plt\n",
    "plt.style.use('seaborn')\n",
    "import numpy as np\n",
    "import calendar\n",
    "from dateutil import parser"
   ]
  },
  {
   "cell_type": "code",
   "execution_count": null,
   "id": "69d68a7a",
   "metadata": {},
   "outputs": [],
   "source": [
    "def get_auth_client(client_id, client_secret, refresh_token, company_id):\n",
    "    auth_client = AuthClient(\n",
    "            client_id=client_id,\n",
    "            client_secret=client_secret,\n",
    "            access_token=None,\n",
    "            environment='production',\n",
    "            redirect_uri='https://developer.intuit.com/v2/OAuth2Playground/RedirectUrl',\n",
    "        )\n",
    "    client = QuickBooks(\n",
    "            auth_client=auth_client,\n",
    "            refresh_token=refresh_token,\n",
    "            company_id=company_id,\n",
    "        )\n",
    "    return client"
   ]
  },
  {
   "cell_type": "code",
   "execution_count": null,
   "id": "6e647670",
   "metadata": {},
   "outputs": [],
   "source": [
    "def proc_rows(rows, category = \"\", level=0):\n",
    "    row_list = []\n",
    "    for row in rows:\n",
    "        if \"Header\" in row:\n",
    "            header_col = row['Header']['ColData'][0]['value']\n",
    "            if category == \"\":\n",
    "                current_category = header_col\n",
    "            else:\n",
    "                current_category = f\"{category}:{header_col}\"\n",
    "            row_list.extend(proc_rows(row['Rows']['Row'], category = current_category, level = level+1))\n",
    "        else:\n",
    "            col_data = row['ColData']\n",
    "            if len(col_data)==len(cols):\n",
    "                cur_row = {cols[i]:col_data[i]['value'] for i in range(len(cols))}\n",
    "                cur_row.update({\"category\":category})\n",
    "                cur_row.update({\"category_level\":level})\n",
    "                row_list.append(cur_row)\n",
    "    return row_list"
   ]
  },
  {
   "cell_type": "code",
   "execution_count": null,
   "id": "ae7e7107",
   "metadata": {},
   "outputs": [],
   "source": [
    "def load_yaml(yaml_file):\n",
    "    with open(yaml_file, \"r\") as stream:\n",
    "        try:\n",
    "            print(yaml.safe_load(stream))\n",
    "        except yaml.YAMLError as exc:\n",
    "            print(exc)\n",
    "            sys.exit(1)"
   ]
  }
 ],
 "metadata": {
  "kernelspec": {
   "display_name": "ChurchEnv",
   "language": "python",
   "name": "churchenv"
  },
  "language_info": {
   "codemirror_mode": {
    "name": "ipython",
    "version": 3
   },
   "file_extension": ".py",
   "mimetype": "text/x-python",
   "name": "python",
   "nbconvert_exporter": "python",
   "pygments_lexer": "ipython3",
   "version": "3.9.13"
  }
 },
 "nbformat": 4,
 "nbformat_minor": 5
}
