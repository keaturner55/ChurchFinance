{
 "cells": [
  {
   "cell_type": "code",
   "execution_count": 8,
   "id": "e7aaf3c8",
   "metadata": {},
   "outputs": [],
   "source": [
    "import panel as pn\n",
    "pn.extension('tabulator')\n",
    "import hvplot.pandas\n",
    "import pandas as pd\n",
    "import numpy as np\n",
    "import sqlite3\n",
    "import os\n",
    "\n",
    "SRC_DIR = os.path.dirname(os.getcwd())"
   ]
  },
  {
   "cell_type": "code",
   "execution_count": 9,
   "id": "cc60f96c",
   "metadata": {},
   "outputs": [],
   "source": [
    "# QB data stored in the DB-comes from qb_etl.py\n",
    "dbname = \"quickbooks.db\"\n",
    "dbpath = os.path.join(SRC_DIR,\"db\",dbname)\n",
    "conn = sqlite3.connect(dbpath) \n",
    "qbdf = pd.read_sql(\"select * from categorized_items\", conn)\n",
    "\n",
    "# Budget data read from static csv\n",
    "budget_file = os.path.join(SRC_DIR,'config','qb_to_budget_map.csv')\n",
    "budgetdf = pd.read_csv(budget_file)"
   ]
  },
  {
   "cell_type": "code",
   "execution_count": 11,
   "id": "13a10df5",
   "metadata": {},
   "outputs": [],
   "source": [
    "# preprocessing/data manipulation\n",
    "budget_items = budgetdf['QB_Item'].unique()\n",
    "\n",
    "expenses = qbdf.loc[qbdf['Account_Type']=='Expenses']\n",
    "income = qbdf.loc[qbdf['Account_Type'] == 'Income']\n",
    "\n",
    "# check for unrecognized types and categories\n",
    "types = qbdf[\"Transaction Type\"].unique()\n",
    "expected_types = ['Check','Expense','Deposit']\n",
    "for t in types:\n",
    "    if t not in expected_types:\n",
    "        print(f\"Warning: {t} not a recognized type\")\n",
    "\n",
    "# expenses not in a budget category will not show up in the bugdet bar plots\n",
    "# BUT they will show up in profit/loss calculations\n",
    "for item in expenses['item'].unique():\n",
    "    if item not in budget_items:\n",
    "        print(f\"Warning: {item} not in any budget category\")"
   ]
  },
  {
   "cell_type": "code",
   "execution_count": 15,
   "id": "2fbb8294",
   "metadata": {},
   "outputs": [],
   "source": [
    "# Combine expense items with budget items\n",
    "item_totals = expenses.groupby('item').aggregate({\"Amount\":\"sum\",\"Date\":'count'}).reset_index()\n",
    "item_totals.columns = ['item','Amount','Transactions']\n",
    "all_totals = pd.merge(budgetdf,item_totals, left_on='QB_Item', right_on=\"item\", how = 'left')\n",
    "subcategory_totals = all_totals.groupby(\"Subcategory\").aggregate({\"Budget\":\"sum\",\"Amount\":\"sum\"}).reset_index()\n",
    "\n",
    "total_expense = expenses['Amount'].sum()\n",
    "total_income = income['Amount'].sum()\n",
    "net_profit = total_income - total_expense"
   ]
  },
  {
   "cell_type": "code",
   "execution_count": 24,
   "id": "f76b6468",
   "metadata": {},
   "outputs": [
    {
     "data": {
      "text/plain": [
       "Index(['Subcategory', 'Budget', 'Amount'], dtype='object')"
      ]
     },
     "execution_count": 24,
     "metadata": {},
     "output_type": "execute_result"
    }
   ],
   "source": [
    "subcategory_totals.columns"
   ]
  },
  {
   "cell_type": "code",
   "execution_count": 31,
   "id": "a0247109",
   "metadata": {},
   "outputs": [
    {
     "name": "stdout",
     "output_type": "stream",
     "text": [
      "Launching server at http://localhost:58353\n"
     ]
    },
    {
     "data": {
      "text/plain": [
       "<bokeh.server.server.Server at 0x219912def10>"
      ]
     },
     "execution_count": 31,
     "metadata": {},
     "output_type": "execute_result"
    }
   ],
   "source": [
    "#fig, ax = plt.subplots(figsize = (10,6))\n",
    "#ind = np.arange(len(subcategory_totals))\n",
    "#width = 0.45\n",
    "\n",
    "budget_bar = subcategory_totals.hvplot.bar(x='Subcategory',\n",
    "                                           y=['Budget','Amount'],\n",
    "                                          ylabel=\"Expenses\",\n",
    "                                          rot=90,\n",
    "                                          width = 1000,\n",
    "                                          legend=\"top_left\").opts(multi_level=False)\n",
    "\n",
    "\n",
    "tab = pn.panel(budget_bar)\n",
    "pn.serve(tab)\n",
    "#ax.set_ylabel(\"Monthly Expenses\")\n",
    "#ax.set_title(\"YTD Report\", fontsize=20)\n",
    "#midx = ind.mean()\n",
    "#midy = max([subcategory_totals['Budget'].max(), subcategory_totals[\"Amount\"].max()])*0.8\n",
    "#color = 'green'\n",
    "#if net_profit>0:\n",
    "#    color = 'green'\n",
    "#else:\n",
    "#    color = 'red'\n",
    "#ax.text(midx-1, midy, 'Income: {:.2f}\\nExpenses: {:.2f}\\nNet Profit: {:.2f}'.format(total_income,total_expense, net_profit), fontsize=14, bbox=dict(facecolor=color, alpha=0.5))\n",
    "#ax.legend()\n",
    "\n",
    "#ax.set_xticks(ind+width/2, subcategory_totals['Subcategory'], rotation=90, fontsize=15)\n",
    "#plt.tight_layout()\n",
    "#plt.savefig(f'{month_name}.png')"
   ]
  },
  {
   "cell_type": "code",
   "execution_count": null,
   "id": "b1aeffa8",
   "metadata": {},
   "outputs": [],
   "source": []
  }
 ],
 "metadata": {
  "kernelspec": {
   "display_name": "ChurchEnv",
   "language": "python",
   "name": "churchenv"
  },
  "language_info": {
   "codemirror_mode": {
    "name": "ipython",
    "version": 3
   },
   "file_extension": ".py",
   "mimetype": "text/x-python",
   "name": "python",
   "nbconvert_exporter": "python",
   "pygments_lexer": "ipython3",
   "version": "3.9.13"
  }
 },
 "nbformat": 4,
 "nbformat_minor": 5
}
